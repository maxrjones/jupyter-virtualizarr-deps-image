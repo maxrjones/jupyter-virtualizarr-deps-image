{
 "cells": [
  {
   "cell_type": "code",
   "execution_count": null,
   "metadata": {},
   "outputs": [],
   "source": [
    "# Begin tests, which are useful for ensuring packages are properly installed.\n",
    "\n",
    "def test_import():\n",
    "    import numpy as np\n"
   ]
  }
 ],
 "metadata": {
  "language_info": {
   "name": "python"
  }
 },
 "nbformat": 4,
 "nbformat_minor": 2
}
